{
 "cells": [
  {
   "cell_type": "markdown",
   "id": "cfed1678",
   "metadata": {},
   "source": [
    "# Closest Pair Of Points"
   ]
  },
  {
   "cell_type": "markdown",
   "id": "231fd8cb",
   "metadata": {},
   "source": [
    "Given a list of `points` of coordinates `(x, y)` find the closest pair of points that has the minimum distance between points.\n"
   ]
  },
  {
   "cell_type": "markdown",
   "id": "c22a552a",
   "metadata": {},
   "source": [
    "### Generate Points"
   ]
  },
  {
   "cell_type": "markdown",
   "id": "6ca25f7a",
   "metadata": {},
   "source": [
    "Generate a list of points `n` of coordinates `(x, y)` using the random module. "
   ]
  },
  {
   "cell_type": "code",
   "execution_count": 99,
   "id": "7e7a85bd",
   "metadata": {},
   "outputs": [
    {
     "name": "stdout",
     "output_type": "stream",
     "text": [
      "[(5092, 1313), (6953, 4206), (9555, 12), (5241, 8631), (7913, 5631), (2036, 9780), (1308, 215), (8998, 397), (3716, 8635), (4139, 6640), (495, 3282), (2335, 8016), (7734, 7704), (2100, 2441), (297, 3247), (4751, 9756), (3983, 4024), (6828, 2985), (3393, 711), (5639, 1058), (7857, 2730), (7808, 7615), (3481, 6573), (8600, 1402), (9750, 878), (8836, 329), (6801, 6596), (1766, 5380), (2374, 3546), (2320, 7786), (9264, 2316), (3840, 3229), (6770, 3855), (8015, 5632), (897, 4930), (9156, 8757), (4173, 4544), (6572, 8473), (2038, 1294), (546, 4395), (1969, 6855), (6790, 5309), (2096, 9059), (893, 6731), (7803, 5722), (9542, 1041), (7864, 415), (3995, 7142), (2851, 4511), (1699, 2346), (1150, 3911), (2080, 769), (6292, 9065), (9171, 8205), (6742, 8228), (4780, 5183), (6934, 1118), (9572, 983), (4968, 359), (8126, 8742), (9347, 8743), (2449, 4949), (3842, 3498), (6657, 6756), (2341, 3529), (4229, 5961), (7312, 1762), (5119, 6265), (2543, 3910), (1514, 940), (306, 1129), (222, 9200), (5288, 4302), (5629, 9175), (4305, 5349), (4164, 5368), (9950, 7203), (2820, 9114), (7642, 6415), (2941, 7684), (2279, 1549), (4447, 4401), (3524, 405), (5431, 8744), (6779, 6757), (5712, 7139), (9007, 4374), (4656, 5670), (923, 4456), (6225, 9406), (5901, 9082), (4656, 4489), (1111, 1982), (7615, 2546), (9038, 1366), (2070, 54), (6011, 5401), (8560, 357), (4513, 4945), (7335, 5447)]\n"
     ]
    }
   ],
   "source": [
    "import random\n",
    "import matplotlib.pyplot as plt\n",
    "\n",
    "# Number of points\n",
    "n = 100\n",
    "# Size of 2D Plan\n",
    "sz = 10000\n",
    "# List of points : tuple(x, y)\n",
    "points = list()\n",
    "\n",
    "for i in range(n):\n",
    "    p = (random.randint(0, sz), random.randint(0, sz))\n",
    "    # Avoid collision\n",
    "    if p not in points:\n",
    "        points.append(p)\n",
    "    \n",
    "print(points)"
   ]
  },
  {
   "cell_type": "markdown",
   "id": "04030137",
   "metadata": {},
   "source": [
    "## Ploting The Points"
   ]
  },
  {
   "cell_type": "markdown",
   "id": "addbef90",
   "metadata": {},
   "source": [
    "Plot all the points `p` of coordinates `(x, y)` using `matplotlib`."
   ]
  },
  {
   "cell_type": "code",
   "execution_count": 100,
   "id": "0987bef4",
   "metadata": {},
   "outputs": [
    {
     "data": {
      "image/png": "[encoded data removed]",
      "text/plain": [
       "<Figure size 432x288 with 1 Axes>"
      ]
     },
     "metadata": {
      "needs_background": "light"
     },
     "output_type": "display_data"
    }
   ],
   "source": [
    "# Unpack points\n",
    "x, y = zip(*points)\n",
    "\n",
    "#print(x)\n",
    "#print(y)\n",
    "\n",
    "# set x-axis label and specific size\n",
    "plt.xlabel('X',size=12)\n",
    "# set y-axis label and specific size\n",
    "plt.ylabel('Y',size=12)\n",
    "# set plot title with specific size\n",
    "plt.title('Closest Points',size=12)\n",
    "# plt plot\n",
    "plt.scatter(x, y)\n",
    "plt.show()"
   ]
  },
  {
   "cell_type": "markdown",
   "id": "5d43ec9f",
   "metadata": {},
   "source": [
    "## Brute Force Solution O(n^2)"
   ]
  },
  {
   "cell_type": "code",
   "execution_count": 101,
   "id": "5e46176d",
   "metadata": {},
   "outputs": [
    {
     "name": "stdout",
     "output_type": "stream",
     "text": [
      "((2374, 3546), (2341, 3529), 37.12142238654117)\n"
     ]
    }
   ],
   "source": [
    "import math\n",
    "\n",
    "# Euclidian distance\n",
    "def distance(p1, p2):\n",
    "    d = math.sqrt(((p2[0] - p1[0])** 2) + ( (p2[1] - p1[1]) ** 2))\n",
    "    return d\n",
    "\n",
    "\n",
    "# Brute Force : Time O(n^2)\n",
    "def closest_brute_force(points):\n",
    "    min_dist = float(\"inf\")\n",
    "    p1 = None\n",
    "    p2 = None\n",
    "\n",
    "    for i in range(len(points)):\n",
    "        for j in range(i+1, len(points)):\n",
    "            d = distance(points[i], points[j])\n",
    "\n",
    "            if d < min_dist:\n",
    "                p1 = points[i]\n",
    "                p2 = points[j]\n",
    "                min_dist = d\n",
    "    return p1, p2, min_dist\n",
    "\n",
    "# Function Call\n",
    "closest_points = closest_brute_force(points)\n",
    "\n",
    "print(closest_points)"
   ]
  },
  {
   "cell_type": "code",
   "execution_count": 102,
   "id": "0d9c9e9e",
   "metadata": {},
   "outputs": [
    {
     "name": "stdout",
     "output_type": "stream",
     "text": [
      "(2374, 3546) (2341, 3529) 37.12142238654117\n"
     ]
    },
    {
     "data": {
      "image/png": "[encoded data removed]",
      "text/plain": [
       "<Figure size 432x288 with 1 Axes>"
      ]
     },
     "metadata": {
      "needs_background": "light"
     },
     "output_type": "display_data"
    }
   ],
   "source": [
    "point_a, point_b, distance = closest_points\n",
    "print(point_a, point_b, distance)\n",
    "x_a, y_a = point_a\n",
    "x_b, y_b = point_b\n",
    "\n",
    "plt.xlabel('X',size=12)\n",
    "plt.ylabel('Y',size=12)\n",
    "plt.title('Closest Points',size=12)\n",
    "plt.scatter(x, y)\n",
    "plt.scatter(x_a, y_a, color=\"red\")\n",
    "plt.scatter(x_b, y_b, color=\"red\")\n",
    "plt.show()"
   ]
  },
  {
   "cell_type": "markdown",
   "id": "26ab18a3",
   "metadata": {},
   "source": [
    "## Divide And Conquer Solution "
   ]
  },
  {
   "cell_type": "code",
   "execution_count": 103,
   "id": "079d8a40",
   "metadata": {},
   "outputs": [
    {
     "name": "stdout",
     "output_type": "stream",
     "text": [
      "(297, 3247) (495, 3282)\n",
      "(2070, 54) (2080, 769)\n",
      "(2080, 769) (2038, 1294)\n",
      "(2341, 3529) (2374, 3546)\n",
      "(4305, 5349) (4164, 5368)\n",
      "(4447, 4401) (4656, 4489)\n",
      "(6292, 9065) (5901, 9082)\n",
      "(6292, 9065) (6225, 9406)\n",
      "(6657, 6756) (6779, 6757)\n",
      "(7312, 1762) (7615, 2546)\n",
      "(6934, 1118) (7312, 1762)\n",
      "(7803, 5722) (7642, 6415)\n",
      "(7808, 7615) (7734, 7704)\n",
      "(9750, 878) (9572, 983)\n",
      "(9572, 983) (9542, 1041)\n",
      "((2341, 3529), (2374, 3546), 37.12142238654117)\n"
     ]
    }
   ],
   "source": [
    "# Euclidian distance\n",
    "def distance(p1, p2):\n",
    "    d = math.sqrt(((p2[0] - p1[0])** 2) + ( (p2[1] - p1[1]) ** 2))\n",
    "    return d\n",
    "\n",
    "\n",
    "# Brute Force : Time O(n^2)\n",
    "def closest_brute_force(points):\n",
    "    min_dist = float(\"inf\")\n",
    "    p1 = None\n",
    "    p2 = None\n",
    "\n",
    "    for i in range(len(points)):\n",
    "        for j in range(i+1, len(points)):\n",
    "            d = distance(points[i], points[j])\n",
    "\n",
    "            if d < min_dist:\n",
    "                p1 = points[i]\n",
    "                p2 = points[j]\n",
    "                min_dist = d\n",
    "    return p1, p2, min_dist\n",
    "\n",
    "\n",
    "def recursive_closest(xsorted, ysorted):\n",
    "    n = len(xsorted)\n",
    "    if n <= 3:\n",
    "        return closest_brute_force(xsorted)\n",
    "    else:\n",
    "        midpoint = xsorted[n//2]\n",
    "        xsorted_left = xsorted[:n//2]\n",
    "        xsorted_right = xsorted[n//2:]\n",
    "        ysorted_left = []\n",
    "        ysorted_right = []\n",
    "        for point in ysorted:\n",
    "            ysorted_left.append(point) if (point[0] <= midpoint[0]) else ysorted_right.append(point)\n",
    "        (p1_left, p2_left, delta_left) = recursive_closest(xsorted_left, ysorted_left)\n",
    "        (p1_right, p2_right, delta_right) = recursive_closest(xsorted_right, ysorted_right)\n",
    "        (p1, p2, delta) = (p1_left, p2_left, delta_left) if (delta_left < delta_right) else (p1_right, p2_right, delta_right)\n",
    "        in_band = [point for point in ysorted if midpoint[0]-delta < point[0] < midpoint[0]+delta]\n",
    "        for i in range(len(in_band)):\n",
    "            for j in range(i+1, min(i+7, len(in_band))):\n",
    "                d = dist(in_band[i], in_band[j])\n",
    "                if d < delta:\n",
    "                    print(in_band[i], in_band[j])\n",
    "                    (p1, p2, delta) = (in_band[i], in_band[j], d)\n",
    "        return p1, p2, delta\n",
    "\n",
    "\n",
    "def closest(points):\n",
    "    xsorted = sorted(points, key=lambda point: point[0])\n",
    "    ysorted = sorted(points, key=lambda point: point[1])\n",
    "    return recursive_closest(xsorted, ysorted)\n",
    "\n",
    "# Function Call\n",
    "closest_points = closest(points)\n",
    "\n",
    "print(closest_points)"
   ]
  },
  {
   "cell_type": "code",
   "execution_count": 104,
   "id": "2e06c604",
   "metadata": {},
   "outputs": [
    {
     "name": "stdout",
     "output_type": "stream",
     "text": [
      "(2341, 3529) (2374, 3546) 37.12142238654117\n"
     ]
    },
    {
     "data": {
      "image/png": "[encoded data removed]",
      "text/plain": [
       "<Figure size 432x288 with 1 Axes>"
      ]
     },
     "metadata": {
      "needs_background": "light"
     },
     "output_type": "display_data"
    }
   ],
   "source": [
    "point_a, point_b, distance = closest_points\n",
    "print(point_a, point_b, distance)\n",
    "x_a, y_a = point_a\n",
    "x_b, y_b = point_b\n",
    "\n",
    "plt.xlabel('X',size=12)\n",
    "plt.ylabel('Y',size=12)\n",
    "plt.title('Closest Points',size=12)\n",
    "plt.scatter(x, y)\n",
    "plt.scatter(x_a, y_a, color=\"red\")\n",
    "plt.scatter(x_b, y_b, color=\"red\")\n",
    "plt.show()"
   ]
  }
 ],
 "metadata": {
  "kernelspec": {
   "display_name": "Python 3",
   "language": "python",
   "name": "python3"
  },
  "language_info": {
   "codemirror_mode": {
    "name": "ipython",
    "version": 3
   },
   "file_extension": ".py",
   "mimetype": "text/x-python",
   "name": "python",
   "nbconvert_exporter": "python",
   "pygments_lexer": "ipython3",
   "version": "3.8.8"
  }
 },
 "nbformat": 4,
 "nbformat_minor": 5
}
